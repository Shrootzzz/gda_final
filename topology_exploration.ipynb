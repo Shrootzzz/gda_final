{
  "nbformat": 4,
  "nbformat_minor": 0,
  "metadata": {
    "colab": {
      "name": "GDA_final.ipynb",
      "provenance": [],
      "collapsed_sections": []
    },
    "kernelspec": {
      "name": "python3",
      "display_name": "Python 3"
    },
    "language_info": {
      "name": "python"
    }
  },
  "cells": [
    {
      "cell_type": "code",
      "metadata": {
        "colab": {
          "base_uri": "https://localhost:8080/"
        },
        "id": "GygE13LZh5Ct",
        "outputId": "ca10d20d-3dfa-4bf7-9a79-c11ee4135333"
      },
      "source": [
        "!pip install gudhi"
      ],
      "execution_count": 1,
      "outputs": [
        {
          "output_type": "stream",
          "text": [
            "Collecting gudhi\n",
            "\u001b[?25l  Downloading https://files.pythonhosted.org/packages/cb/71/e70015e0f547debe64901775202aa0e53231907a60850bb8d86ce8a31453/gudhi-3.4.1-cp37-cp37m-manylinux2014_x86_64.whl (28.1MB)\n",
            "\u001b[K     |████████████████████████████████| 28.1MB 127kB/s \n",
            "\u001b[?25hRequirement already satisfied: numpy>=1.9 in /usr/local/lib/python3.7/dist-packages (from gudhi) (1.19.5)\n",
            "Installing collected packages: gudhi\n",
            "Successfully installed gudhi-3.4.1\n"
          ],
          "name": "stdout"
        }
      ]
    },
    {
      "cell_type": "code",
      "metadata": {
        "colab": {
          "base_uri": "https://localhost:8080/"
        },
        "id": "Pp-jbVdLi6x8",
        "outputId": "3b96f9e7-1a0c-42d0-f30e-28da5ce29498"
      },
      "source": [
        "!pip install mayavi"
      ],
      "execution_count": 4,
      "outputs": [
        {
          "output_type": "stream",
          "text": [
            "Collecting mayavi\n",
            "\u001b[?25l  Downloading https://files.pythonhosted.org/packages/63/5f/350dbde409fa5925ed8696c05e916196e10c3650a9bb54a50126e3a2d9d5/mayavi-4.7.2.tar.gz (7.1MB)\n",
            "\u001b[K     |████████████████████████████████| 7.1MB 3.5MB/s \n",
            "\u001b[?25hCollecting apptools\n",
            "\u001b[?25l  Downloading https://files.pythonhosted.org/packages/c8/2f/cca173cf2077a61b5e07a00ffba317a51e33502ee93570ef37f84fef81a3/apptools-5.1.0.tar.gz (177kB)\n",
            "\u001b[K     |████████████████████████████████| 184kB 31.3MB/s \n",
            "\u001b[?25hCollecting envisage\n",
            "\u001b[?25l  Downloading https://files.pythonhosted.org/packages/35/09/3a7451cb2777a53f45012011d6b8566384ee6d958d14e6f87b383fe09a61/envisage-5.0.0.tar.gz (197kB)\n",
            "\u001b[K     |████████████████████████████████| 204kB 43.3MB/s \n",
            "\u001b[?25hRequirement already satisfied: numpy in /usr/local/lib/python3.7/dist-packages (from mayavi) (1.19.5)\n",
            "Collecting pyface>=6.1.1\n",
            "\u001b[?25l  Downloading https://files.pythonhosted.org/packages/cf/36/6f65252f601fe422106f0d8dffbe9afce9212bda81de9ab5377879c8b947/pyface-7.3.0.tar.gz (6.1MB)\n",
            "\u001b[K     |████████████████████████████████| 6.2MB 17.4MB/s \n",
            "\u001b[?25hRequirement already satisfied: pygments in /usr/local/lib/python3.7/dist-packages (from mayavi) (2.6.1)\n",
            "Collecting traits>=6.0.0\n",
            "\u001b[?25l  Downloading https://files.pythonhosted.org/packages/c5/40/225cc2bba4c0466fdb5d9d67aac164bbe6320428eb11a71084be4338aceb/traits-6.2.0-cp37-cp37m-manylinux2010_x86_64.whl (5.1MB)\n",
            "\u001b[K     |████████████████████████████████| 5.1MB 27.9MB/s \n",
            "\u001b[?25hCollecting traitsui>=7.0.0\n",
            "\u001b[?25l  Downloading https://files.pythonhosted.org/packages/4b/eb/ba1e357b8b70b537c4c7ce548511e724b42980856596292b64432076c052/traitsui-7.1.1.tar.gz (5.8MB)\n",
            "\u001b[K     |████████████████████████████████| 5.8MB 20.7MB/s \n",
            "\u001b[?25hCollecting vtk\n",
            "\u001b[?25l  Downloading https://files.pythonhosted.org/packages/b5/f5/1971e21b7da2875fa07754e49c302cdb140de4c8585d56df8027d08ce299/vtk-9.0.1-cp37-cp37m-manylinux2010_x86_64.whl (103.4MB)\n",
            "\u001b[K     |████████████████████████████████| 103.4MB 38kB/s \n",
            "\u001b[?25hCollecting configobj\n",
            "  Downloading https://files.pythonhosted.org/packages/64/61/079eb60459c44929e684fa7d9e2fdca403f67d64dd9dbac27296be2e0fab/configobj-5.0.6.tar.gz\n",
            "Requirement already satisfied: setuptools in /usr/local/lib/python3.7/dist-packages (from envisage->mayavi) (56.0.0)\n",
            "Requirement already satisfied: importlib-metadata in /usr/local/lib/python3.7/dist-packages (from pyface>=6.1.1->mayavi) (3.10.1)\n",
            "Requirement already satisfied: importlib-resources>=1.1.0 in /usr/local/lib/python3.7/dist-packages (from pyface>=6.1.1->mayavi) (5.1.2)\n",
            "Requirement already satisfied: six in /usr/local/lib/python3.7/dist-packages (from configobj->apptools->mayavi) (1.15.0)\n",
            "Requirement already satisfied: typing-extensions>=3.6.4; python_version < \"3.8\" in /usr/local/lib/python3.7/dist-packages (from importlib-metadata->pyface>=6.1.1->mayavi) (3.7.4.3)\n",
            "Requirement already satisfied: zipp>=0.5 in /usr/local/lib/python3.7/dist-packages (from importlib-metadata->pyface>=6.1.1->mayavi) (3.4.1)\n",
            "Building wheels for collected packages: mayavi, apptools, envisage, pyface, traitsui, configobj\n",
            "  Building wheel for mayavi (setup.py) ... \u001b[?25lerror\n",
            "\u001b[31m  ERROR: Failed building wheel for mayavi\u001b[0m\n",
            "\u001b[?25h  Running setup.py clean for mayavi\n",
            "  Building wheel for apptools (setup.py) ... \u001b[?25l\u001b[?25hdone\n",
            "  Created wheel for apptools: filename=apptools-5.1.0-cp37-none-any.whl size=228756 sha256=a2b28e3bd50638a4a572a6f37fdf3b2862a2b7f75c785f2da3e01fa67afcea62\n",
            "  Stored in directory: /root/.cache/pip/wheels/55/c1/79/64868a3cdd74eb83029044c0adfd490210fe9126bcf337daec\n",
            "  Building wheel for envisage (setup.py) ... \u001b[?25l\u001b[?25hdone\n",
            "  Created wheel for envisage: filename=envisage-5.0.0-cp37-none-any.whl size=319217 sha256=935008fc409f771d1e034dc921ad3f78d24cafbede7d573b6f5fd95929cdfb18\n",
            "  Stored in directory: /root/.cache/pip/wheels/9c/b0/c6/b933e75c4deafad7597fda9d9664b46e7d8a1e1190e8f42186\n",
            "  Building wheel for pyface (setup.py) ... \u001b[?25l\u001b[?25hdone\n",
            "  Created wheel for pyface: filename=pyface-7.3.0-cp37-none-any.whl size=1206685 sha256=2bfc473e16def10b80cc1340507952f0ebade5275c10ebc0d8dc795d10a53964\n",
            "  Stored in directory: /root/.cache/pip/wheels/b8/b0/17/b17ba5f9df2afb04eeea59ac17e7c6638aa5a5a4470d0946fa\n",
            "  Building wheel for traitsui (setup.py) ... \u001b[?25l\u001b[?25hdone\n",
            "  Created wheel for traitsui: filename=traitsui-7.1.1-cp37-none-any.whl size=1499735 sha256=1ea07d7c8277ab92e907892857f373781c814ec3994bae5fd03ab0e4b6b922b4\n",
            "  Stored in directory: /root/.cache/pip/wheels/92/c7/fd/d9c55dfb59be927eb66eb3d411afb45bb0cb8d06945136f490\n",
            "  Building wheel for configobj (setup.py) ... \u001b[?25l\u001b[?25hdone\n",
            "  Created wheel for configobj: filename=configobj-5.0.6-cp37-none-any.whl size=34547 sha256=07c7065aa6d006541682d2eb6a0d58c8d37caa1f71b704da5f4312c0daf8889e\n",
            "  Stored in directory: /root/.cache/pip/wheels/f1/e4/16/4981ca97c2d65106b49861e0b35e2660695be7219a2d351ee0\n",
            "Successfully built apptools envisage pyface traitsui configobj\n",
            "Failed to build mayavi\n",
            "Installing collected packages: configobj, traits, pyface, traitsui, apptools, envisage, vtk, mayavi\n",
            "    Running setup.py install for mayavi ... \u001b[?25l\u001b[?25hdone\n",
            "Successfully installed apptools-5.1.0 configobj-5.0.6 envisage-5.0.0 mayavi-4.7.2 pyface-7.3.0 traits-6.2.0 traitsui-7.1.1 vtk-9.0.1\n"
          ],
          "name": "stdout"
        }
      ]
    },
    {
      "cell_type": "code",
      "metadata": {
        "colab": {
          "base_uri": "https://localhost:8080/"
        },
        "id": "7YmRL37OzsEF",
        "outputId": "80ad042d-2e2f-44b3-ce24-96049bef38f2"
      },
      "source": [
        "!pip install POT"
      ],
      "execution_count": 57,
      "outputs": [
        {
          "output_type": "stream",
          "text": [
            "Collecting POT\n",
            "\u001b[?25l  Downloading https://files.pythonhosted.org/packages/1f/47/1ead874bd6ac538f246dcabfe04d3cc67ec94cf8fc8f952ff4e56c07cfe2/POT-0.7.0-cp37-cp37m-manylinux2010_x86_64.whl (430kB)\n",
            "\r\u001b[K     |▊                               | 10kB 15.6MB/s eta 0:00:01\r\u001b[K     |█▌                              | 20kB 10.6MB/s eta 0:00:01\r\u001b[K     |██▎                             | 30kB 6.1MB/s eta 0:00:01\r\u001b[K     |███                             | 40kB 6.0MB/s eta 0:00:01\r\u001b[K     |███▉                            | 51kB 4.3MB/s eta 0:00:01\r\u001b[K     |████▋                           | 61kB 4.5MB/s eta 0:00:01\r\u001b[K     |█████▎                          | 71kB 5.0MB/s eta 0:00:01\r\u001b[K     |██████                          | 81kB 5.1MB/s eta 0:00:01\r\u001b[K     |██████▉                         | 92kB 4.8MB/s eta 0:00:01\r\u001b[K     |███████▋                        | 102kB 4.2MB/s eta 0:00:01\r\u001b[K     |████████▍                       | 112kB 4.2MB/s eta 0:00:01\r\u001b[K     |█████████▏                      | 122kB 4.2MB/s eta 0:00:01\r\u001b[K     |██████████                      | 133kB 4.2MB/s eta 0:00:01\r\u001b[K     |██████████▋                     | 143kB 4.2MB/s eta 0:00:01\r\u001b[K     |███████████▍                    | 153kB 4.2MB/s eta 0:00:01\r\u001b[K     |████████████▏                   | 163kB 4.2MB/s eta 0:00:01\r\u001b[K     |█████████████                   | 174kB 4.2MB/s eta 0:00:01\r\u001b[K     |█████████████▊                  | 184kB 4.2MB/s eta 0:00:01\r\u001b[K     |██████████████▌                 | 194kB 4.2MB/s eta 0:00:01\r\u001b[K     |███████████████▏                | 204kB 4.2MB/s eta 0:00:01\r\u001b[K     |████████████████                | 215kB 4.2MB/s eta 0:00:01\r\u001b[K     |████████████████▊               | 225kB 4.2MB/s eta 0:00:01\r\u001b[K     |█████████████████▌              | 235kB 4.2MB/s eta 0:00:01\r\u001b[K     |██████████████████▎             | 245kB 4.2MB/s eta 0:00:01\r\u001b[K     |███████████████████             | 256kB 4.2MB/s eta 0:00:01\r\u001b[K     |███████████████████▉            | 266kB 4.2MB/s eta 0:00:01\r\u001b[K     |████████████████████▌           | 276kB 4.2MB/s eta 0:00:01\r\u001b[K     |█████████████████████▎          | 286kB 4.2MB/s eta 0:00:01\r\u001b[K     |██████████████████████          | 296kB 4.2MB/s eta 0:00:01\r\u001b[K     |██████████████████████▉         | 307kB 4.2MB/s eta 0:00:01\r\u001b[K     |███████████████████████▋        | 317kB 4.2MB/s eta 0:00:01\r\u001b[K     |████████████████████████▍       | 327kB 4.2MB/s eta 0:00:01\r\u001b[K     |█████████████████████████       | 337kB 4.2MB/s eta 0:00:01\r\u001b[K     |█████████████████████████▉      | 348kB 4.2MB/s eta 0:00:01\r\u001b[K     |██████████████████████████▋     | 358kB 4.2MB/s eta 0:00:01\r\u001b[K     |███████████████████████████▍    | 368kB 4.2MB/s eta 0:00:01\r\u001b[K     |████████████████████████████▏   | 378kB 4.2MB/s eta 0:00:01\r\u001b[K     |█████████████████████████████   | 389kB 4.2MB/s eta 0:00:01\r\u001b[K     |█████████████████████████████▊  | 399kB 4.2MB/s eta 0:00:01\r\u001b[K     |██████████████████████████████▍ | 409kB 4.2MB/s eta 0:00:01\r\u001b[K     |███████████████████████████████▏| 419kB 4.2MB/s eta 0:00:01\r\u001b[K     |████████████████████████████████| 430kB 4.2MB/s eta 0:00:01\r\u001b[K     |████████████████████████████████| 440kB 4.2MB/s \n",
            "\u001b[?25hRequirement already satisfied: cython>=0.23 in /usr/local/lib/python3.7/dist-packages (from POT) (0.29.22)\n",
            "Requirement already satisfied: numpy>=1.16 in /usr/local/lib/python3.7/dist-packages (from POT) (1.19.5)\n",
            "Requirement already satisfied: scipy>=1.0 in /usr/local/lib/python3.7/dist-packages (from POT) (1.4.1)\n",
            "Installing collected packages: POT\n",
            "Successfully installed POT-0.7.0\n"
          ],
          "name": "stdout"
        }
      ]
    },
    {
      "cell_type": "code",
      "metadata": {
        "colab": {
          "base_uri": "https://localhost:8080/"
        },
        "id": "qz7eVr7IzwLK",
        "outputId": "39232841-55c7-4f63-d2a5-2517b12e85d2"
      },
      "source": [
        "!pip install eagerpy"
      ],
      "execution_count": 58,
      "outputs": [
        {
          "output_type": "stream",
          "text": [
            "Collecting eagerpy\n",
            "  Downloading https://files.pythonhosted.org/packages/e1/07/54994565da4fc5a4840d3a434fb9bf3835b4a4e68c931ccfcc327d568f95/eagerpy-0.29.0-py3-none-any.whl\n",
            "Requirement already satisfied: numpy in /usr/local/lib/python3.7/dist-packages (from eagerpy) (1.19.5)\n",
            "Requirement already satisfied: typing-extensions>=3.7.4.1 in /usr/local/lib/python3.7/dist-packages (from eagerpy) (3.7.4.3)\n",
            "Installing collected packages: eagerpy\n",
            "Successfully installed eagerpy-0.29.0\n"
          ],
          "name": "stdout"
        }
      ]
    },
    {
      "cell_type": "markdown",
      "metadata": {
        "id": "stRh1K1Kzc1x"
      },
      "source": [
        "# Imports"
      ]
    },
    {
      "cell_type": "code",
      "metadata": {
        "id": "5EJduCdzh0w3"
      },
      "source": [
        "from IPython.display import Image\n",
        "from os import chdir\n",
        "import numpy as np\n",
        "import gudhi as gd\n",
        "import matplotlib.pyplot as plt\n",
        "import pandas as pd\n",
        "from pylab import *\n",
        "from sklearn.neighbors import KernelDensity\n",
        "import seaborn as sns\n",
        "import pickle\n",
        "from gudhi.wasserstein import wasserstein_distance\n",
        "import torch\n",
        "from torch.optim.lr_scheduler import LambdaLR\n",
        "import tensorflow as tf\n",
        "%matplotlib inline"
      ],
      "execution_count": 62,
      "outputs": []
    },
    {
      "cell_type": "markdown",
      "metadata": {
        "id": "kfM8T2IFmNlF"
      },
      "source": [
        "# Exploring simplical complexes with Rips and Alpha filtration"
      ]
    },
    {
      "cell_type": "code",
      "metadata": {
        "id": "wwoSxzbAjmK-"
      },
      "source": [
        "#Data set and experiment from Kovacev-Nikolic et al (https://arxiv.org/pdf/1412.1394.pdf)\n",
        "path_file = \"./\"\n",
        "files_list = [\n",
        "    '1anf.corr_1.txt', \n",
        "    '1ez9.corr_1.txt', \n",
        "    '1fqa.corr_2.txt', \n",
        "    '1fqb.corr_3.txt', \n",
        "    '1fqc.corr_2.txt', \n",
        "    '1fqd.corr_3.txt', \n",
        "    '1jw4.corr_4.txt', \n",
        "    '1jw5.corr_5.txt', \n",
        "    '1lls.corr_6.txt', \n",
        "    '1mpd.corr_4.txt', \n",
        "    '1omp.corr_7.txt', \n",
        "    '3hpi.corr_5.txt', \n",
        "    '3mbp.corr_6.txt', \n",
        "    '4mbp.corr_7.txt'\n",
        "]\n",
        "corr_list = [\n",
        "    pd.read_csv(\n",
        "        path_file + u, \n",
        "        header = None, \n",
        "        delim_whitespace = True\n",
        "    ) for u in files_list\n",
        "]"
      ],
      "execution_count": 26,
      "outputs": []
    },
    {
      "cell_type": "code",
      "metadata": {
        "colab": {
          "base_uri": "https://localhost:8080/",
          "height": 264
        },
        "id": "Pj43f7sCnEqy",
        "outputId": "fc4fea5d-05ba-46f7-97f5-22655c58e953"
      },
      "source": [
        "#compute the matrix of distances associated to each configuration\n",
        "dist_list = [1 - np.abs(c) for c in corr_list]\n",
        "D = dist_list[0]\n",
        "print(\"distance matrix\")\n",
        "D.head()"
      ],
      "execution_count": 27,
      "outputs": [
        {
          "output_type": "stream",
          "text": [
            "distance matrix\n"
          ],
          "name": "stdout"
        },
        {
          "output_type": "execute_result",
          "data": {
            "text/html": [
              "<div>\n",
              "<style scoped>\n",
              "    .dataframe tbody tr th:only-of-type {\n",
              "        vertical-align: middle;\n",
              "    }\n",
              "\n",
              "    .dataframe tbody tr th {\n",
              "        vertical-align: top;\n",
              "    }\n",
              "\n",
              "    .dataframe thead th {\n",
              "        text-align: right;\n",
              "    }\n",
              "</style>\n",
              "<table border=\"1\" class=\"dataframe\">\n",
              "  <thead>\n",
              "    <tr style=\"text-align: right;\">\n",
              "      <th></th>\n",
              "      <th>0</th>\n",
              "      <th>1</th>\n",
              "      <th>2</th>\n",
              "      <th>3</th>\n",
              "      <th>4</th>\n",
              "      <th>5</th>\n",
              "      <th>6</th>\n",
              "      <th>7</th>\n",
              "      <th>8</th>\n",
              "      <th>9</th>\n",
              "      <th>10</th>\n",
              "      <th>11</th>\n",
              "      <th>12</th>\n",
              "      <th>13</th>\n",
              "      <th>14</th>\n",
              "      <th>15</th>\n",
              "      <th>16</th>\n",
              "      <th>17</th>\n",
              "      <th>18</th>\n",
              "      <th>19</th>\n",
              "      <th>20</th>\n",
              "      <th>21</th>\n",
              "      <th>22</th>\n",
              "      <th>23</th>\n",
              "      <th>24</th>\n",
              "      <th>25</th>\n",
              "      <th>26</th>\n",
              "      <th>27</th>\n",
              "      <th>28</th>\n",
              "      <th>29</th>\n",
              "      <th>30</th>\n",
              "      <th>31</th>\n",
              "      <th>32</th>\n",
              "      <th>33</th>\n",
              "      <th>34</th>\n",
              "      <th>35</th>\n",
              "      <th>36</th>\n",
              "      <th>37</th>\n",
              "      <th>38</th>\n",
              "      <th>39</th>\n",
              "      <th>...</th>\n",
              "      <th>330</th>\n",
              "      <th>331</th>\n",
              "      <th>332</th>\n",
              "      <th>333</th>\n",
              "      <th>334</th>\n",
              "      <th>335</th>\n",
              "      <th>336</th>\n",
              "      <th>337</th>\n",
              "      <th>338</th>\n",
              "      <th>339</th>\n",
              "      <th>340</th>\n",
              "      <th>341</th>\n",
              "      <th>342</th>\n",
              "      <th>343</th>\n",
              "      <th>344</th>\n",
              "      <th>345</th>\n",
              "      <th>346</th>\n",
              "      <th>347</th>\n",
              "      <th>348</th>\n",
              "      <th>349</th>\n",
              "      <th>350</th>\n",
              "      <th>351</th>\n",
              "      <th>352</th>\n",
              "      <th>353</th>\n",
              "      <th>354</th>\n",
              "      <th>355</th>\n",
              "      <th>356</th>\n",
              "      <th>357</th>\n",
              "      <th>358</th>\n",
              "      <th>359</th>\n",
              "      <th>360</th>\n",
              "      <th>361</th>\n",
              "      <th>362</th>\n",
              "      <th>363</th>\n",
              "      <th>364</th>\n",
              "      <th>365</th>\n",
              "      <th>366</th>\n",
              "      <th>367</th>\n",
              "      <th>368</th>\n",
              "      <th>369</th>\n",
              "    </tr>\n",
              "  </thead>\n",
              "  <tbody>\n",
              "    <tr>\n",
              "      <th>0</th>\n",
              "      <td>0.000000</td>\n",
              "      <td>0.076200</td>\n",
              "      <td>0.171364</td>\n",
              "      <td>0.378207</td>\n",
              "      <td>0.461747</td>\n",
              "      <td>0.493499</td>\n",
              "      <td>0.478665</td>\n",
              "      <td>0.432338</td>\n",
              "      <td>0.568455</td>\n",
              "      <td>0.639504</td>\n",
              "      <td>0.876696</td>\n",
              "      <td>0.987487</td>\n",
              "      <td>0.971474</td>\n",
              "      <td>0.752469</td>\n",
              "      <td>0.785661</td>\n",
              "      <td>0.753362</td>\n",
              "      <td>0.926726</td>\n",
              "      <td>0.891183</td>\n",
              "      <td>0.763683</td>\n",
              "      <td>0.861939</td>\n",
              "      <td>0.957064</td>\n",
              "      <td>0.834729</td>\n",
              "      <td>0.801634</td>\n",
              "      <td>0.979382</td>\n",
              "      <td>0.913509</td>\n",
              "      <td>0.839663</td>\n",
              "      <td>0.929590</td>\n",
              "      <td>0.993115</td>\n",
              "      <td>0.924922</td>\n",
              "      <td>0.922717</td>\n",
              "      <td>0.993688</td>\n",
              "      <td>0.993023</td>\n",
              "      <td>0.770953</td>\n",
              "      <td>0.784322</td>\n",
              "      <td>0.740372</td>\n",
              "      <td>0.672799</td>\n",
              "      <td>0.770868</td>\n",
              "      <td>0.706807</td>\n",
              "      <td>0.796060</td>\n",
              "      <td>0.706772</td>\n",
              "      <td>...</td>\n",
              "      <td>0.730223</td>\n",
              "      <td>0.774431</td>\n",
              "      <td>0.743020</td>\n",
              "      <td>0.799158</td>\n",
              "      <td>0.671402</td>\n",
              "      <td>0.643874</td>\n",
              "      <td>0.675207</td>\n",
              "      <td>0.602705</td>\n",
              "      <td>0.559920</td>\n",
              "      <td>0.546235</td>\n",
              "      <td>0.560099</td>\n",
              "      <td>0.552504</td>\n",
              "      <td>0.544802</td>\n",
              "      <td>0.545891</td>\n",
              "      <td>0.565868</td>\n",
              "      <td>0.600064</td>\n",
              "      <td>0.613328</td>\n",
              "      <td>0.613752</td>\n",
              "      <td>0.652322</td>\n",
              "      <td>0.707323</td>\n",
              "      <td>0.722034</td>\n",
              "      <td>0.730058</td>\n",
              "      <td>0.786749</td>\n",
              "      <td>0.773707</td>\n",
              "      <td>0.766714</td>\n",
              "      <td>0.815753</td>\n",
              "      <td>0.801413</td>\n",
              "      <td>0.833213</td>\n",
              "      <td>0.770803</td>\n",
              "      <td>0.688172</td>\n",
              "      <td>0.694159</td>\n",
              "      <td>0.723059</td>\n",
              "      <td>0.660802</td>\n",
              "      <td>0.614051</td>\n",
              "      <td>0.660601</td>\n",
              "      <td>0.686334</td>\n",
              "      <td>0.640850</td>\n",
              "      <td>0.617944</td>\n",
              "      <td>0.695108</td>\n",
              "      <td>0.748451</td>\n",
              "    </tr>\n",
              "    <tr>\n",
              "      <th>1</th>\n",
              "      <td>0.076200</td>\n",
              "      <td>0.000000</td>\n",
              "      <td>0.122763</td>\n",
              "      <td>0.233837</td>\n",
              "      <td>0.350744</td>\n",
              "      <td>0.406213</td>\n",
              "      <td>0.425202</td>\n",
              "      <td>0.381799</td>\n",
              "      <td>0.541636</td>\n",
              "      <td>0.646580</td>\n",
              "      <td>0.874730</td>\n",
              "      <td>0.980564</td>\n",
              "      <td>0.981461</td>\n",
              "      <td>0.791195</td>\n",
              "      <td>0.835268</td>\n",
              "      <td>0.824335</td>\n",
              "      <td>0.988385</td>\n",
              "      <td>0.971576</td>\n",
              "      <td>0.847729</td>\n",
              "      <td>0.937372</td>\n",
              "      <td>0.962880</td>\n",
              "      <td>0.923792</td>\n",
              "      <td>0.890868</td>\n",
              "      <td>0.940083</td>\n",
              "      <td>0.987789</td>\n",
              "      <td>0.918542</td>\n",
              "      <td>0.992630</td>\n",
              "      <td>0.918488</td>\n",
              "      <td>0.933675</td>\n",
              "      <td>0.944592</td>\n",
              "      <td>0.927787</td>\n",
              "      <td>0.915498</td>\n",
              "      <td>0.682550</td>\n",
              "      <td>0.691234</td>\n",
              "      <td>0.656562</td>\n",
              "      <td>0.580834</td>\n",
              "      <td>0.718290</td>\n",
              "      <td>0.665421</td>\n",
              "      <td>0.783539</td>\n",
              "      <td>0.717578</td>\n",
              "      <td>...</td>\n",
              "      <td>0.713620</td>\n",
              "      <td>0.688022</td>\n",
              "      <td>0.674322</td>\n",
              "      <td>0.706879</td>\n",
              "      <td>0.675207</td>\n",
              "      <td>0.638185</td>\n",
              "      <td>0.648848</td>\n",
              "      <td>0.652654</td>\n",
              "      <td>0.639287</td>\n",
              "      <td>0.597886</td>\n",
              "      <td>0.617986</td>\n",
              "      <td>0.655068</td>\n",
              "      <td>0.653195</td>\n",
              "      <td>0.633744</td>\n",
              "      <td>0.655829</td>\n",
              "      <td>0.706906</td>\n",
              "      <td>0.709955</td>\n",
              "      <td>0.690718</td>\n",
              "      <td>0.735362</td>\n",
              "      <td>0.791449</td>\n",
              "      <td>0.788910</td>\n",
              "      <td>0.784520</td>\n",
              "      <td>0.845639</td>\n",
              "      <td>0.836736</td>\n",
              "      <td>0.843118</td>\n",
              "      <td>0.894596</td>\n",
              "      <td>0.894162</td>\n",
              "      <td>0.927606</td>\n",
              "      <td>0.869419</td>\n",
              "      <td>0.797502</td>\n",
              "      <td>0.817461</td>\n",
              "      <td>0.844610</td>\n",
              "      <td>0.781266</td>\n",
              "      <td>0.740222</td>\n",
              "      <td>0.793586</td>\n",
              "      <td>0.808770</td>\n",
              "      <td>0.754748</td>\n",
              "      <td>0.730646</td>\n",
              "      <td>0.804961</td>\n",
              "      <td>0.848953</td>\n",
              "    </tr>\n",
              "    <tr>\n",
              "      <th>2</th>\n",
              "      <td>0.171364</td>\n",
              "      <td>0.122763</td>\n",
              "      <td>0.000000</td>\n",
              "      <td>0.084642</td>\n",
              "      <td>0.131528</td>\n",
              "      <td>0.148980</td>\n",
              "      <td>0.162259</td>\n",
              "      <td>0.164105</td>\n",
              "      <td>0.333175</td>\n",
              "      <td>0.480605</td>\n",
              "      <td>0.728596</td>\n",
              "      <td>0.878333</td>\n",
              "      <td>0.955878</td>\n",
              "      <td>0.761321</td>\n",
              "      <td>0.863604</td>\n",
              "      <td>0.850384</td>\n",
              "      <td>0.912823</td>\n",
              "      <td>0.949718</td>\n",
              "      <td>0.909342</td>\n",
              "      <td>0.931740</td>\n",
              "      <td>0.811086</td>\n",
              "      <td>0.958686</td>\n",
              "      <td>0.963492</td>\n",
              "      <td>0.726269</td>\n",
              "      <td>0.842220</td>\n",
              "      <td>0.937272</td>\n",
              "      <td>0.781078</td>\n",
              "      <td>0.682947</td>\n",
              "      <td>0.989341</td>\n",
              "      <td>0.973549</td>\n",
              "      <td>0.713763</td>\n",
              "      <td>0.650806</td>\n",
              "      <td>0.398764</td>\n",
              "      <td>0.430297</td>\n",
              "      <td>0.400250</td>\n",
              "      <td>0.367524</td>\n",
              "      <td>0.522562</td>\n",
              "      <td>0.507607</td>\n",
              "      <td>0.646142</td>\n",
              "      <td>0.615129</td>\n",
              "      <td>...</td>\n",
              "      <td>0.695602</td>\n",
              "      <td>0.695092</td>\n",
              "      <td>0.667749</td>\n",
              "      <td>0.699321</td>\n",
              "      <td>0.638518</td>\n",
              "      <td>0.605190</td>\n",
              "      <td>0.623142</td>\n",
              "      <td>0.581264</td>\n",
              "      <td>0.565534</td>\n",
              "      <td>0.525747</td>\n",
              "      <td>0.531880</td>\n",
              "      <td>0.555328</td>\n",
              "      <td>0.555036</td>\n",
              "      <td>0.518660</td>\n",
              "      <td>0.549644</td>\n",
              "      <td>0.620678</td>\n",
              "      <td>0.618889</td>\n",
              "      <td>0.588264</td>\n",
              "      <td>0.652685</td>\n",
              "      <td>0.734626</td>\n",
              "      <td>0.720356</td>\n",
              "      <td>0.710494</td>\n",
              "      <td>0.798838</td>\n",
              "      <td>0.785443</td>\n",
              "      <td>0.804563</td>\n",
              "      <td>0.881797</td>\n",
              "      <td>0.885763</td>\n",
              "      <td>0.934006</td>\n",
              "      <td>0.848658</td>\n",
              "      <td>0.748390</td>\n",
              "      <td>0.782234</td>\n",
              "      <td>0.813481</td>\n",
              "      <td>0.718610</td>\n",
              "      <td>0.666239</td>\n",
              "      <td>0.742311</td>\n",
              "      <td>0.740322</td>\n",
              "      <td>0.667525</td>\n",
              "      <td>0.653546</td>\n",
              "      <td>0.742430</td>\n",
              "      <td>0.766030</td>\n",
              "    </tr>\n",
              "    <tr>\n",
              "      <th>3</th>\n",
              "      <td>0.378207</td>\n",
              "      <td>0.233837</td>\n",
              "      <td>0.084642</td>\n",
              "      <td>0.000000</td>\n",
              "      <td>0.045478</td>\n",
              "      <td>0.132107</td>\n",
              "      <td>0.217299</td>\n",
              "      <td>0.293902</td>\n",
              "      <td>0.494307</td>\n",
              "      <td>0.675635</td>\n",
              "      <td>0.876268</td>\n",
              "      <td>0.991366</td>\n",
              "      <td>0.919455</td>\n",
              "      <td>0.726101</td>\n",
              "      <td>0.814194</td>\n",
              "      <td>0.811663</td>\n",
              "      <td>0.996419</td>\n",
              "      <td>0.984417</td>\n",
              "      <td>0.877307</td>\n",
              "      <td>0.983443</td>\n",
              "      <td>0.872731</td>\n",
              "      <td>0.991227</td>\n",
              "      <td>0.973019</td>\n",
              "      <td>0.752899</td>\n",
              "      <td>0.866137</td>\n",
              "      <td>0.939076</td>\n",
              "      <td>0.761071</td>\n",
              "      <td>0.659739</td>\n",
              "      <td>0.954954</td>\n",
              "      <td>0.980399</td>\n",
              "      <td>0.664877</td>\n",
              "      <td>0.553946</td>\n",
              "      <td>0.344309</td>\n",
              "      <td>0.408559</td>\n",
              "      <td>0.431622</td>\n",
              "      <td>0.439792</td>\n",
              "      <td>0.645070</td>\n",
              "      <td>0.673255</td>\n",
              "      <td>0.818156</td>\n",
              "      <td>0.841465</td>\n",
              "      <td>...</td>\n",
              "      <td>0.737892</td>\n",
              "      <td>0.693142</td>\n",
              "      <td>0.674475</td>\n",
              "      <td>0.667690</td>\n",
              "      <td>0.687913</td>\n",
              "      <td>0.658524</td>\n",
              "      <td>0.640351</td>\n",
              "      <td>0.679618</td>\n",
              "      <td>0.693402</td>\n",
              "      <td>0.643013</td>\n",
              "      <td>0.657866</td>\n",
              "      <td>0.712014</td>\n",
              "      <td>0.719348</td>\n",
              "      <td>0.678863</td>\n",
              "      <td>0.711073</td>\n",
              "      <td>0.781851</td>\n",
              "      <td>0.781384</td>\n",
              "      <td>0.746506</td>\n",
              "      <td>0.802262</td>\n",
              "      <td>0.875486</td>\n",
              "      <td>0.859203</td>\n",
              "      <td>0.840488</td>\n",
              "      <td>0.913671</td>\n",
              "      <td>0.892687</td>\n",
              "      <td>0.917118</td>\n",
              "      <td>0.983563</td>\n",
              "      <td>0.994598</td>\n",
              "      <td>0.976144</td>\n",
              "      <td>0.954957</td>\n",
              "      <td>0.885855</td>\n",
              "      <td>0.913930</td>\n",
              "      <td>0.929677</td>\n",
              "      <td>0.853475</td>\n",
              "      <td>0.813717</td>\n",
              "      <td>0.868041</td>\n",
              "      <td>0.856491</td>\n",
              "      <td>0.797437</td>\n",
              "      <td>0.781044</td>\n",
              "      <td>0.842591</td>\n",
              "      <td>0.858435</td>\n",
              "    </tr>\n",
              "    <tr>\n",
              "      <th>4</th>\n",
              "      <td>0.461747</td>\n",
              "      <td>0.350744</td>\n",
              "      <td>0.131528</td>\n",
              "      <td>0.045478</td>\n",
              "      <td>0.000000</td>\n",
              "      <td>0.059280</td>\n",
              "      <td>0.146850</td>\n",
              "      <td>0.297257</td>\n",
              "      <td>0.511751</td>\n",
              "      <td>0.734412</td>\n",
              "      <td>0.939161</td>\n",
              "      <td>0.904015</td>\n",
              "      <td>0.837147</td>\n",
              "      <td>0.628354</td>\n",
              "      <td>0.744318</td>\n",
              "      <td>0.768388</td>\n",
              "      <td>0.981398</td>\n",
              "      <td>0.988109</td>\n",
              "      <td>0.897541</td>\n",
              "      <td>0.943569</td>\n",
              "      <td>0.810338</td>\n",
              "      <td>0.895153</td>\n",
              "      <td>0.849603</td>\n",
              "      <td>0.619624</td>\n",
              "      <td>0.715071</td>\n",
              "      <td>0.753349</td>\n",
              "      <td>0.556484</td>\n",
              "      <td>0.467144</td>\n",
              "      <td>0.862018</td>\n",
              "      <td>0.803069</td>\n",
              "      <td>0.440527</td>\n",
              "      <td>0.388396</td>\n",
              "      <td>0.183934</td>\n",
              "      <td>0.291512</td>\n",
              "      <td>0.340658</td>\n",
              "      <td>0.417123</td>\n",
              "      <td>0.643156</td>\n",
              "      <td>0.719489</td>\n",
              "      <td>0.884441</td>\n",
              "      <td>0.921742</td>\n",
              "      <td>...</td>\n",
              "      <td>0.656162</td>\n",
              "      <td>0.607924</td>\n",
              "      <td>0.598170</td>\n",
              "      <td>0.596286</td>\n",
              "      <td>0.637303</td>\n",
              "      <td>0.599548</td>\n",
              "      <td>0.577877</td>\n",
              "      <td>0.652617</td>\n",
              "      <td>0.673773</td>\n",
              "      <td>0.613776</td>\n",
              "      <td>0.641983</td>\n",
              "      <td>0.714537</td>\n",
              "      <td>0.728334</td>\n",
              "      <td>0.679051</td>\n",
              "      <td>0.726305</td>\n",
              "      <td>0.815579</td>\n",
              "      <td>0.817331</td>\n",
              "      <td>0.775754</td>\n",
              "      <td>0.842191</td>\n",
              "      <td>0.933748</td>\n",
              "      <td>0.914748</td>\n",
              "      <td>0.886933</td>\n",
              "      <td>0.969051</td>\n",
              "      <td>0.933527</td>\n",
              "      <td>0.967383</td>\n",
              "      <td>0.952075</td>\n",
              "      <td>0.935762</td>\n",
              "      <td>0.910479</td>\n",
              "      <td>0.989322</td>\n",
              "      <td>0.938696</td>\n",
              "      <td>0.967195</td>\n",
              "      <td>0.979578</td>\n",
              "      <td>0.889375</td>\n",
              "      <td>0.841519</td>\n",
              "      <td>0.895967</td>\n",
              "      <td>0.874522</td>\n",
              "      <td>0.804538</td>\n",
              "      <td>0.779865</td>\n",
              "      <td>0.841695</td>\n",
              "      <td>0.849836</td>\n",
              "    </tr>\n",
              "  </tbody>\n",
              "</table>\n",
              "<p>5 rows × 370 columns</p>\n",
              "</div>"
            ],
            "text/plain": [
              "        0         1         2    ...       367       368       369\n",
              "0  0.000000  0.076200  0.171364  ...  0.617944  0.695108  0.748451\n",
              "1  0.076200  0.000000  0.122763  ...  0.730646  0.804961  0.848953\n",
              "2  0.171364  0.122763  0.000000  ...  0.653546  0.742430  0.766030\n",
              "3  0.378207  0.233837  0.084642  ...  0.781044  0.842591  0.858435\n",
              "4  0.461747  0.350744  0.131528  ...  0.779865  0.841695  0.849836\n",
              "\n",
              "[5 rows x 370 columns]"
            ]
          },
          "metadata": {
            "tags": []
          },
          "execution_count": 27
        }
      ]
    },
    {
      "cell_type": "markdown",
      "metadata": {
        "id": "4jdKQJVhniiV"
      },
      "source": [
        "# Rips filtration of Protein binding distance matrix"
      ]
    },
    {
      "cell_type": "code",
      "metadata": {
        "id": "dW8RDGecnerN"
      },
      "source": [
        "skeleton_protein = gd.RipsComplex(\n",
        "    distance_matrix = D.values, \n",
        "    max_edge_length = 0.8\n",
        ")\n",
        "Rips_simplex_tree_protein = skeleton_protein.create_simplex_tree(max_dimension = 2)"
      ],
      "execution_count": 28,
      "outputs": []
    },
    {
      "cell_type": "code",
      "metadata": {
        "colab": {
          "base_uri": "https://localhost:8080/"
        },
        "id": "6OkK-O7upBN9",
        "outputId": "0be17b4b-3c06-4de0-d1ef-52f5b0409bfa"
      },
      "source": [
        "print(\"Number of simplcies in the Rips complex\")\n",
        "Rips_simplex_tree_protein.num_simplices()"
      ],
      "execution_count": 29,
      "outputs": [
        {
          "output_type": "stream",
          "text": [
            "Number of simplcies in the Rips complex\n"
          ],
          "name": "stdout"
        },
        {
          "output_type": "execute_result",
          "data": {
            "text/plain": [
              "1626660"
            ]
          },
          "metadata": {
            "tags": []
          },
          "execution_count": 29
        }
      ]
    },
    {
      "cell_type": "markdown",
      "metadata": {
        "id": "A1NnDv9upZJq"
      },
      "source": [
        "# Alpha filtration of Protein binding distance matrix"
      ]
    },
    {
      "cell_type": "markdown",
      "metadata": {
        "id": "XGNZA0rqoSO8"
      },
      "source": [
        "Our data set does not belong to euclideen space $\\mathbb R^p$ and we are not in position to directly compute a Delaunay Triangulation in the metric space, using the pairwise distances. Therefore we use  Multidimensional Scaling (MDS) to find a representation of $n$ points in a space $\\mathbb R^p$ that preserves as well as possible the pairwise distances between the $n$ points in the original metric space. "
      ]
    },
    {
      "cell_type": "code",
      "metadata": {
        "colab": {
          "base_uri": "https://localhost:8080/"
        },
        "id": "ysaOu-pwn3Fe",
        "outputId": "2d69ddd7-19fa-4935-8b00-d733dcbd7828"
      },
      "source": [
        "from sklearn.manifold import MDS\n",
        " \n",
        "embedding = MDS(n_components = 3, dissimilarity = 'precomputed')\n",
        "X_transformed = embedding.fit_transform(D)\n",
        "X_transformed.shape"
      ],
      "execution_count": 19,
      "outputs": [
        {
          "output_type": "execute_result",
          "data": {
            "text/plain": [
              "(370, 3)"
            ]
          },
          "metadata": {
            "tags": []
          },
          "execution_count": 19
        }
      ]
    },
    {
      "cell_type": "code",
      "metadata": {
        "colab": {
          "base_uri": "https://localhost:8080/",
          "height": 267
        },
        "id": "AW_Gqd4Noffy",
        "outputId": "d209b5b9-11ab-4a18-e697-ef8af729722a"
      },
      "source": [
        "fig = plt.figure()\n",
        "plt.scatter(X_transformed[:, 0], X_transformed[:, 1], label = 'MDS');"
      ],
      "execution_count": 20,
      "outputs": [
        {
          "output_type": "display_data",
          "data": {
            "image/png": "[encoded data removed]",
            "text/plain": [
              "<Figure size 432x288 with 1 Axes>"
            ]
          },
          "metadata": {
            "tags": [],
            "needs_background": "light"
          }
        }
      ]
    },
    {
      "cell_type": "code",
      "metadata": {
        "id": "1-mmmFHroh1P"
      },
      "source": [
        "alpha_complex = gd.AlphaComplex(points = X_transformed)"
      ],
      "execution_count": 21,
      "outputs": []
    },
    {
      "cell_type": "code",
      "metadata": {
        "id": "IRjTK13iood3"
      },
      "source": [
        "st_alpha = alpha_complex.create_simplex_tree()"
      ],
      "execution_count": 22,
      "outputs": []
    },
    {
      "cell_type": "code",
      "metadata": {
        "colab": {
          "base_uri": "https://localhost:8080/"
        },
        "id": "e7LX2gs7oqn-",
        "outputId": "86d8e4c4-2ba1-4d3f-fae4-efc87c50b19d"
      },
      "source": [
        "print(\"The number of alpha simplices\")\n",
        "print(st_alpha.num_simplices())"
      ],
      "execution_count": 24,
      "outputs": [
        {
          "output_type": "stream",
          "text": [
            "The number of alpha simplices\n",
            "9209\n"
          ],
          "name": "stdout"
        }
      ]
    },
    {
      "cell_type": "markdown",
      "metadata": {
        "id": "hOcYVJA9o3nG"
      },
      "source": [
        "The number of simplexes in the Alpha complex is much smaller then for the Rips complex."
      ]
    },
    {
      "cell_type": "markdown",
      "metadata": {
        "id": "s_PwCKXWpdQW"
      },
      "source": [
        "# Examples of sublevel sets of functions using cubical complexes"
      ]
    },
    {
      "cell_type": "code",
      "metadata": {
        "id": "BWNMBLKtpwsH"
      },
      "source": [
        "#https://github.com/GUDHI/TDA-tutorial/blob/master/Tuto-GUDHI-cubical-complexes.ipynb\n",
        "f = open(\"./crater_tuto\", \"rb\")\n",
        "crater = pickle.load(f)\n",
        "f.close()"
      ],
      "execution_count": 34,
      "outputs": []
    },
    {
      "cell_type": "code",
      "metadata": {
        "colab": {
          "base_uri": "https://localhost:8080/",
          "height": 282
        },
        "id": "VAavOFCpp_8n",
        "outputId": "9efc6b3e-24e7-4f9d-c286-3723fc3ac23c"
      },
      "source": [
        "#visualize point cloud\n",
        "plt.scatter(crater[:, 0], crater[:, 1], s = 0.1)"
      ],
      "execution_count": 35,
      "outputs": [
        {
          "output_type": "execute_result",
          "data": {
            "text/plain": [
              "<matplotlib.collections.PathCollection at 0x7fd241054f10>"
            ]
          },
          "metadata": {
            "tags": []
          },
          "execution_count": 35
        },
        {
          "output_type": "display_data",
          "data": {
            "image/png": "[encoded data removed]",
            "text/plain": [
              "<Figure size 432x288 with 1 Axes>"
            ]
          },
          "metadata": {
            "tags": [],
            "needs_background": "light"
          }
        }
      ]
    },
    {
      "cell_type": "code",
      "metadata": {
        "colab": {
          "base_uri": "https://localhost:8080/",
          "height": 285
        },
        "id": "EqkvsXl_qH_5",
        "outputId": "51b3d028-2e4e-43ac-b9d0-b4ffea36acf8"
      },
      "source": [
        "#Instead of directly defining a Rips complex or an alpha complex on the point cloud, \n",
        "#we want to study the upper level sets of a density estimator computed on the point cloud.\n",
        "sns.kdeplot(\n",
        "    x = crater[:, 0], \n",
        "    y = crater[:, 1], \n",
        "    shade = True, \n",
        "    cmap = \"PuBu\", \n",
        "    bw_method = .3\n",
        ")"
      ],
      "execution_count": 36,
      "outputs": [
        {
          "output_type": "execute_result",
          "data": {
            "text/plain": [
              "<matplotlib.axes._subplots.AxesSubplot at 0x7fd241004a50>"
            ]
          },
          "metadata": {
            "tags": []
          },
          "execution_count": 36
        },
        {
          "output_type": "display_data",
          "data": {
            "image/png": "[encoded data removed]",
            "text/plain": [
              "<Figure size 432x288 with 1 Axes>"
            ]
          },
          "metadata": {
            "tags": [],
            "needs_background": "light"
          }
        }
      ]
    },
    {
      "cell_type": "code",
      "metadata": {
        "id": "wnKwaG8kqTEi"
      },
      "source": [
        "xval = np.arange(0, 10, 0.05)\n",
        "yval = np.arange(0, 10, 0.05)\n",
        "nx = len(xval)\n",
        "ny = len(yval)\n",
        "kde = KernelDensity(kernel = 'gaussian', bandwidth = 0.3).fit(crater)\n",
        "positions = np.array([[u, v] for u in xval for v in yval])"
      ],
      "execution_count": 37,
      "outputs": []
    },
    {
      "cell_type": "code",
      "metadata": {
        "colab": {
          "base_uri": "https://localhost:8080/"
        },
        "id": "lLzCmXhHqa8N",
        "outputId": "b0d59ef9-3238-4c1f-98de-b55f4848eb5b"
      },
      "source": [
        "filt_values = -kde.score_samples(X = positions)\n",
        "print(\"range of filtation: \")\n",
        "print(min(filt_values), max(filt_values))"
      ],
      "execution_count": 38,
      "outputs": [
        {
          "output_type": "stream",
          "text": [
            "range of filtation: \n",
            "3.2652121885802146 26.527204685017267\n"
          ],
          "name": "stdout"
        }
      ]
    },
    {
      "cell_type": "code",
      "metadata": {
        "colab": {
          "base_uri": "https://localhost:8080/"
        },
        "id": "Pi2aBA8Vqglg",
        "outputId": "1501fd3d-5d7d-4cb8-b36c-9cb40ae91dd3"
      },
      "source": [
        "cc_density_crater = gd.CubicalComplex(\n",
        "    dimensions = [nx ,ny], \n",
        "    top_dimensional_cells = filt_values\n",
        ")\n",
        "print(\"Compute the cubical complex filtration based on the grid using the filtration values:\")\n",
        "print(\"...\")\n",
        "print(\"The number of simplices is then: \")\n",
        "cc_density_crater.num_simplices()"
      ],
      "execution_count": 41,
      "outputs": [
        {
          "output_type": "stream",
          "text": [
            "Compute the cubical complex filtration based on the grid using the filtration values:\n",
            "...\n",
            "The number of simplices is then: \n"
          ],
          "name": "stdout"
        },
        {
          "output_type": "execute_result",
          "data": {
            "text/plain": [
              "160801"
            ]
          },
          "metadata": {
            "tags": []
          },
          "execution_count": 41
        }
      ]
    },
    {
      "cell_type": "code",
      "metadata": {
        "id": "9cIAokgCq1FQ"
      },
      "source": [
        ""
      ],
      "execution_count": null,
      "outputs": []
    },
    {
      "cell_type": "markdown",
      "metadata": {
        "id": "Hsldy0gvrM9H"
      },
      "source": [
        "# Persistent homology and persistence diagrams"
      ]
    },
    {
      "cell_type": "code",
      "metadata": {
        "id": "ofFcj5pprNwB"
      },
      "source": [
        "#Data set & experiment from Kovacev-Nikolic et al. (https://arxiv.org/pdf/1412.1394.pdf)\n",
        "D0 = dist_list[0]"
      ],
      "execution_count": 43,
      "outputs": []
    },
    {
      "cell_type": "code",
      "metadata": {
        "id": "zwggSP0SrgKE"
      },
      "source": [
        "#Build Rips complex from distance matrix:\n",
        "skeleton_protein0 = gd.RipsComplex(\n",
        "    distance_matrix = D0.values, \n",
        "    max_edge_length = 0.8\n",
        ") \n",
        "\n",
        "Rips_simplex_tree_protein0 = skeleton_protein0.create_simplex_tree(max_dimension = 2)"
      ],
      "execution_count": 44,
      "outputs": []
    },
    {
      "cell_type": "code",
      "metadata": {
        "colab": {
          "base_uri": "https://localhost:8080/"
        },
        "id": "22LUUUrErnuZ",
        "outputId": "2996b86c-3e24-41b1-8c5e-145c3408bb20"
      },
      "source": [
        "#Compute persistence\n",
        "BarCodes_Rips0 = Rips_simplex_tree_protein0.persistence()\n",
        "print(\"Each element in the list is a tuple (dim,(b,d)) where dim is a dimension, b is birth parameter and d is death parameter.\")\n",
        "print(\"These 20 topolological features have dimension 1, they corresponds to holes of dimension 1.\")\n",
        "for i in range(20):\n",
        "    print(BarCodes_Rips0[i])"
      ],
      "execution_count": 46,
      "outputs": [
        {
          "output_type": "stream",
          "text": [
            "Each element in the list is a tuple (dim,(b,d)) where dim is a dimension, b is birth parameter and d is death parameter.\n",
            "These 20 topolological features have dimension 1, they corresponds to holes of dimension 1.\n",
            "(1, (0.07963602000000003, 0.35798637))\n",
            "(1, (0.12677510000000003, 0.39508646999999997))\n",
            "(1, (0.26003449999999995, 0.5273952))\n",
            "(1, (0.07943339999999999, 0.31429881000000004))\n",
            "(1, (0.08248586999999996, 0.30429980999999995))\n",
            "(1, (0.11378021999999999, 0.31171713999999995))\n",
            "(1, (0.07726765000000002, 0.26078758))\n",
            "(1, (0.09107215000000002, 0.25065161999999996))\n",
            "(1, (0.0709843, 0.22765623000000001))\n",
            "(1, (0.09347402000000005, 0.24999733000000002))\n",
            "(1, (0.07013614000000001, 0.22504734000000004))\n",
            "(1, (0.08752541000000003, 0.20355559))\n",
            "(1, (0.21541215000000002, 0.32814707))\n",
            "(1, (0.06835270000000004, 0.17527247))\n",
            "(1, (0.08857625000000002, 0.19539684000000002))\n",
            "(1, (0.08241111999999995, 0.18353136999999997))\n",
            "(1, (0.10362273, 0.20264340000000003))\n",
            "(1, (0.09289979999999998, 0.19181444000000003))\n",
            "(1, (0.09581541999999998, 0.19310879999999997))\n",
            "(1, (0.09541275000000005, 0.18175165000000004))\n"
          ],
          "name": "stdout"
        }
      ]
    },
    {
      "cell_type": "code",
      "metadata": {
        "colab": {
          "base_uri": "https://localhost:8080/",
          "height": 355
        },
        "id": "uiUTyI24ryvb",
        "outputId": "5543fd35-9280-47f0-9612-7f60450d75ff"
      },
      "source": [
        "#Plot the points (birth, death) in the so-called persistence diagram\n",
        "gd.plot_persistence_diagram(BarCodes_Rips0)\n",
        "print(\"0-dimensional features are the red points (holes of dimension 0, namely connected components).\\n The last connected component dies at infinity in the filtration (red point at the top). \\n The 1-dimensional features are represented in blue\")"
      ],
      "execution_count": 72,
      "outputs": [
        {
          "output_type": "stream",
          "text": [
            "0-dimensional features are the red points (holes of dimension 0, namely connected components).\n",
            " The last connected component dies at infinity in the filtration (red point at the top). \n",
            " The 1-dimensional features are represented in blue\n"
          ],
          "name": "stdout"
        },
        {
          "output_type": "display_data",
          "data": {
            "image/png": "[encoded data removed]",
            "text/plain": [
              "<Figure size 432x288 with 1 Axes>"
            ]
          },
          "metadata": {
            "tags": [],
            "needs_background": "light"
          }
        }
      ]
    },
    {
      "cell_type": "markdown",
      "metadata": {
        "id": "N-a5PzZ7zH_0"
      },
      "source": [
        "# Optimizing Points with weak $\\alpha$- complex\n",
        "\n",
        "---\n",
        "\n"
      ]
    },
    {
      "cell_type": "markdown",
      "metadata": {
        "id": "BzcUAYrvz-Yp"
      },
      "source": [
        "We compute the persistent homology in dimension 1 of some $\\alpha$ filtration built on the points, and want to maximize its total persistence. For this, we define a loss function that rewards total persistence and penalizes points outside of the disk."
      ]
    },
    {
      "cell_type": "code",
      "metadata": {
        "id": "fPLpq1dhsE8K"
      },
      "source": [
        "def myloss(pts):\n",
        "    alpha = gudhi.AlphaComplex(points=pts)\n",
        "    # Build the Delaunay triangulation\n",
        "    st = alpha.create_simplex_tree(default_filtration_value=True)\n",
        "    X = pts.detach().numpy()\n",
        "    for s in st.get_skeleton(1):\n",
        "        if len(s[0]) == 1:\n",
        "            # vertex\n",
        "            st.assign_filtration(s[0], 0)\n",
        "        else:\n",
        "            # edge length\n",
        "            st.assign_filtration(s[0], ((X[s[0][1]] - X[s[0][0]]) ** 2).sum())\n",
        "    # For triangles, use the max of the edges\n",
        "    st.make_filtration_non_decreasing()\n",
        "    st.compute_persistence()\n",
        "    p = st.persistence_pairs()\n",
        "    # Keep only pairs that contribute to H1, i.e. (edge, triangle), and separate birth (p1b) and death (p1d)\n",
        "    p1b = torch.tensor([i[0] for i in p if len(i[0]) == 2])\n",
        "    p1d = torch.tensor([i[1] for i in p if len(i[0]) == 2])\n",
        "    if len(p1b) == 0:\n",
        "        return torch.tensor(0., requires_grad=True)\n",
        "    # Compute the distance between the extremities of the birth edge\n",
        "    b = torch.norm(pts[p1b[:,1]] - pts[p1b[:,0]], dim=-1, keepdim=True)\n",
        "    # For the death triangle, compute the maximum of the pairwise distances\n",
        "    d_1 = torch.norm(pts[p1d[:,1]] - pts[p1d[:,0]], dim=-1, keepdim=True)\n",
        "    d_2 = torch.norm(pts[p1d[:,1]] - pts[p1d[:,2]], dim=-1, keepdim=True)\n",
        "    d_3 = torch.norm(pts[p1d[:,2]] - pts[p1d[:,0]], dim=-1, keepdim=True)\n",
        "    d = torch.max(d_1, torch.max(d_2, d_3))\n",
        "    # Same as the finite part of st.persistence_intervals_in_dimension(1), but differentiable\n",
        "    diag1 = torch.cat((b,d), 1)\n",
        "    # Total persistence is a special case of Wasserstein distance\n",
        "    perstot1 = wasserstein_distance(diag1, [], order=1, enable_autodiff=True)\n",
        "    # Stay within the unit disk\n",
        "    disk = (pts ** 2).sum(-1) - 1\n",
        "    disk = torch.max(disk, torch.zeros_like(disk)).sum()\n",
        "    return -perstot1 + 1 * disk"
      ],
      "execution_count": 52,
      "outputs": []
    },
    {
      "cell_type": "code",
      "metadata": {
        "colab": {
          "base_uri": "https://localhost:8080/",
          "height": 1000
        },
        "id": "oc7xsB90zU0b",
        "outputId": "126de0de-1401-4a61-f7db-2fcdcea2e92b"
      },
      "source": [
        "# Start with a square, the loss will round the corners\n",
        "pts = (torch.rand((200, 2)) * 2 - 1).requires_grad_()\n",
        "opt = torch.optim.SGD([pts], lr=1)\n",
        "scheduler = LambdaLR(opt,[lambda epoch: 10./(10+epoch)])\n",
        "for idx in range(600):\n",
        "    opt.zero_grad()\n",
        "    myloss(pts).backward()\n",
        "    opt.step()\n",
        "    scheduler.step()\n",
        "    if idx % 100 == 99:\n",
        "        P = pts.detach().numpy()\n",
        "        plt.scatter(P[:, 0], P[:, 1])\n",
        "        plt.show()"
      ],
      "execution_count": 59,
      "outputs": [
        {
          "output_type": "display_data",
          "data": {
            "image/png": "[encoded data removed]",
            "text/plain": [
              "<Figure size 432x288 with 1 Axes>"
            ]
          },
          "metadata": {
            "tags": [],
            "needs_background": "light"
          }
        },
        {
          "output_type": "display_data",
          "data": {
            "image/png": "[encoded data removed]",
            "text/plain": [
              "<Figure size 432x288 with 1 Axes>"
            ]
          },
          "metadata": {
            "tags": [],
            "needs_background": "light"
          }
        },
        {
          "output_type": "display_data",
          "data": {
            "image/png": "[encoded data removed]",
            "text/plain": [
              "<Figure size 432x288 with 1 Axes>"
            ]
          },
          "metadata": {
            "tags": [],
            "needs_background": "light"
          }
        },
        {
          "output_type": "display_data",
          "data": {
            "image/png": "[encoded data removed]",
            "text/plain": [
              "<Figure size 432x288 with 1 Axes>"
            ]
          },
          "metadata": {
            "tags": [],
            "needs_background": "light"
          }
        },
        {
          "output_type": "display_data",
          "data": {
            "image/png": "[encoded data removed]",
            "text/plain": [
              "<Figure size 432x288 with 1 Axes>"
            ]
          },
          "metadata": {
            "tags": [],
            "needs_background": "light"
          }
        },
        {
          "output_type": "display_data",
          "data": {
            "image/png": "[encoded data removed]",
            "text/plain": [
              "<Figure size 432x288 with 1 Axes>"
            ]
          },
          "metadata": {
            "tags": [],
            "needs_background": "light"
          }
        }
      ]
    },
    {
      "cell_type": "markdown",
      "metadata": {
        "id": "39Do1X_G0Qgc"
      },
      "source": [
        "# Optimizing of Images with Pixel Filtration"
      ]
    },
    {
      "cell_type": "markdown",
      "metadata": {
        "id": "kBvK5YU41jrn"
      },
      "source": [
        "We follow the experiment by https://mathieucarriere.github.io/website/"
      ]
    },
    {
      "cell_type": "code",
      "metadata": {
        "id": "56B0FoyMzaGz"
      },
      "source": [
        "def Cubical(X, dim, card):\n",
        "    # Parameters: X (image),\n",
        "    #             dim (homological dimension), \n",
        "    #             card (number of persistence diagram points, sorted by distance-to-diagonal)\n",
        "\n",
        "    # Compute the persistence pairs with Gudhi\n",
        "    cc = gd.CubicalComplex(dimensions=X.shape, top_dimensional_cells=X.flatten())\n",
        "    cc.persistence()\n",
        "    cof = cc.cofaces_of_persistence_pairs()[0][dim]\n",
        "    \n",
        "    # Sort points with distance-to-diagonal\n",
        "    Xs = X.shape\n",
        "    pers = [X[np.unravel_index(cof[idx,1], Xs)] - X[np.unravel_index(cof[idx,0], Xs)] for idx in range(len(cof))]\n",
        "    perm = np.argsort(pers)\n",
        "    cof = cof[perm]\n",
        "    \n",
        "    # Retrieve and ouput image indices/pixels corresponding to positive and negative simplices\n",
        "    D = len(X.shape)\n",
        "    ocof = np.array([0 for _ in range(D*card*2)])\n",
        "    for idx in range(len(cof[:min(card, cof.shape[0])])):\n",
        "        ocof[D*idx:D*(idx+1)]     = np.unravel_index(cof[idx,0], X.shape)\n",
        "        ocof[D*(idx+1):D*(idx+2)] = np.unravel_index(cof[idx,1], X.shape)\n",
        "    return list(np.array(ocof.flatten(), dtype=np.int32))"
      ],
      "execution_count": 60,
      "outputs": []
    },
    {
      "cell_type": "code",
      "metadata": {
        "id": "kzMNsQA5021j"
      },
      "source": [
        "class CubicalModel(tf.keras.Model):\n",
        "    def __init__(self, X, dim=1, card=50):\n",
        "        super(CubicalModel, self).__init__()\n",
        "        self.X = X\n",
        "        self.dim = dim\n",
        "        self.card = card\n",
        "        \n",
        "    def call(self):\n",
        "        d, c, D = self.dim, self.card, len(self.X.shape)\n",
        "        XX = tf.reshape(self.X, [1, self.X.shape[0], self.X.shape[1]])\n",
        "        \n",
        "        # Turn numpy function into tensorflow function\n",
        "        CbTF = lambda X: tf.numpy_function(Cubical, [X, d, c], [tf.int32 for _ in range(2*D*c)])\n",
        "        \n",
        "        # Compute pixels associated to positive and negative simplices \n",
        "        # Don't compute gradient for this operation\n",
        "        inds = tf.nest.map_structure(tf.stop_gradient, tf.map_fn(CbTF,XX,dtype=[tf.int32 for _ in range(2*D*c)]))\n",
        "        \n",
        "        # Get persistence diagram by simply picking the corresponding entries in the image\n",
        "        dgm = tf.reshape(tf.gather_nd(self.X, tf.reshape(inds, [-1,D])), [-1,2])\n",
        "        return dgm"
      ],
      "execution_count": 63,
      "outputs": []
    },
    {
      "cell_type": "code",
      "metadata": {
        "id": "q_gkhLyz03LK"
      },
      "source": [
        "I = np.array(pd.read_csv(\"./mnist_test.csv\", header=None, sep=\",\"), dtype=np.float32)\n",
        "idx = np.argwhere(I[:,0] == 8)\n",
        "image = np.reshape(-I[idx[8],1:], [28,28])"
      ],
      "execution_count": 64,
      "outputs": []
    },
    {
      "cell_type": "code",
      "metadata": {
        "colab": {
          "base_uri": "https://localhost:8080/",
          "height": 264
        },
        "id": "xt-H9j6w1E45",
        "outputId": "8ddf88ef-1cff-4a24-9a0d-299ad3a4a4c2"
      },
      "source": [
        "plt.figure()\n",
        "plt.imshow(image)\n",
        "plt.show()"
      ],
      "execution_count": 65,
      "outputs": [
        {
          "output_type": "display_data",
          "data": {
            "image/png": "[encoded data removed]",
            "text/plain": [
              "<Figure size 432x288 with 1 Axes>"
            ]
          },
          "metadata": {
            "tags": [],
            "needs_background": "light"
          }
        }
      ]
    },
    {
      "cell_type": "code",
      "metadata": {
        "id": "8emx3PMp1Y57"
      },
      "source": [
        "card     = 50   # max number of points in the diagrams\n",
        "hom      = 1    # homological dimension\n",
        "n_epochs = 100  # number of optimization steps"
      ],
      "execution_count": 66,
      "outputs": []
    },
    {
      "cell_type": "code",
      "metadata": {
        "id": "JkQrMK4B1ZKN"
      },
      "source": [
        "X = tf.Variable(initial_value=np.array(image, dtype=np.float32), trainable=True)\n",
        "model = CubicalModel(X, dim=hom, card=card)"
      ],
      "execution_count": 67,
      "outputs": []
    },
    {
      "cell_type": "code",
      "metadata": {
        "id": "bnO3Y7JU1bTJ"
      },
      "source": [
        "optimizer = tf.keras.optimizers.SGD(learning_rate=5*1e-2)"
      ],
      "execution_count": 68,
      "outputs": []
    },
    {
      "cell_type": "code",
      "metadata": {
        "colab": {
          "base_uri": "https://localhost:8080/",
          "height": 1000
        },
        "id": "wop-oZoi1cyE",
        "outputId": "24c457b2-12fd-44b1-eb9a-01d0a9f171df"
      },
      "source": [
        "for epoch in range(n_epochs+1):\n",
        "    \n",
        "    with tf.GradientTape() as tape:\n",
        "        \n",
        "        # Compute persistence diagram\n",
        "        dgm = model.call()\n",
        "        \n",
        "        # Loss is sum of squared birth coordinates\n",
        "        loss = -tf.math.reduce_sum(tf.square(dgm[:,0]))\n",
        "        \n",
        "        # Compute and apply gradients\n",
        "        gradients = tape.gradient(loss, model.trainable_variables)\n",
        "        optimizer.apply_gradients(zip(gradients, model.trainable_variables))\n",
        "\n",
        "    if epoch % 10 == 0:\n",
        "        plt.figure()\n",
        "        plt.imshow(model.X.numpy())\n",
        "        plt.title(\"Image at epoch \" + str(epoch))\n",
        "        plt.show()"
      ],
      "execution_count": 69,
      "outputs": [
        {
          "output_type": "display_data",
          "data": {
            "image/png": "[encoded data removed]",
            "text/plain": [
              "<Figure size 432x288 with 1 Axes>"
            ]
          },
          "metadata": {
            "tags": [],
            "needs_background": "light"
          }
        },
        {
          "output_type": "display_data",
          "data": {
            "image/png": "[encoded data removed]",
            "text/plain": [
              "<Figure size 432x288 with 1 Axes>"
            ]
          },
          "metadata": {
            "tags": [],
            "needs_background": "light"
          }
        },
        {
          "output_type": "display_data",
          "data": {
            "image/png": "[encoded data removed]",
            "text/plain": [
              "<Figure size 432x288 with 1 Axes>"
            ]
          },
          "metadata": {
            "tags": [],
            "needs_background": "light"
          }
        },
        {
          "output_type": "display_data",
          "data": {
            "image/png": "[encoded data removed]",
            "text/plain": [
              "<Figure size 432x288 with 1 Axes>"
            ]
          },
          "metadata": {
            "tags": [],
            "needs_background": "light"
          }
        },
        {
          "output_type": "display_data",
          "data": {
            "image/png": "[encoded data removed]",
            "text/plain": [
              "<Figure size 432x288 with 1 Axes>"
            ]
          },
          "metadata": {
            "tags": [],
            "needs_background": "light"
          }
        },
        {
          "output_type": "display_data",
          "data": {
            "image/png": "[encoded data removed]",
            "text/plain": [
              "<Figure size 432x288 with 1 Axes>"
            ]
          },
          "metadata": {
            "tags": [],
            "needs_background": "light"
          }
        },
        {
          "output_type": "display_data",
          "data": {
            "image/png": "[encoded data removed]",
            "text/plain": [
              "<Figure size 432x288 with 1 Axes>"
            ]
          },
          "metadata": {
            "tags": [],
            "needs_background": "light"
          }
        },
        {
          "output_type": "display_data",
          "data": {
            "image/png": "[encoded data removed]",
            "text/plain": [
              "<Figure size 432x288 with 1 Axes>"
            ]
          },
          "metadata": {
            "tags": [],
            "needs_background": "light"
          }
        },
        {
          "output_type": "display_data",
          "data": {
            "image/png": "[encoded data removed]",
            "text/plain": [
              "<Figure size 432x288 with 1 Axes>"
            ]
          },
          "metadata": {
            "tags": [],
            "needs_background": "light"
          }
        },
        {
          "output_type": "display_data",
          "data": {
            "image/png": "[encoded data removed]",
            "text/plain": [
              "<Figure size 432x288 with 1 Axes>"
            ]
          },
          "metadata": {
            "tags": [],
            "needs_background": "light"
          }
        },
        {
          "output_type": "display_data",
          "data": {
            "image/png": "[encoded data removed]",
            "text/plain": [
              "<Figure size 432x288 with 1 Axes>"
            ]
          },
          "metadata": {
            "tags": [],
            "needs_background": "light"
          }
        }
      ]
    },
    {
      "cell_type": "code",
      "metadata": {
        "id": "RWe73VVj1eed"
      },
      "source": [
        ""
      ],
      "execution_count": null,
      "outputs": []
    }
  ]
}